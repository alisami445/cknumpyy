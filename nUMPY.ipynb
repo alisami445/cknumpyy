{
 "cells": [
  {
   "cell_type": "markdown",
   "metadata": {},
   "source": [
    "# EX1"
   ]
  },
  {
   "cell_type": "code",
   "execution_count": 1,
   "metadata": {},
   "outputs": [
    {
     "name": "stdout",
     "output_type": "stream",
     "text": [
      "[1, 2, 3, 4, 5, 6, 7, 8, 9]\n"
     ]
    }
   ],
   "source": [
    "from array import *\n",
    "A=array('i',[1,2,3,4,5,6,7,8,9])\n",
    "x=A.tolist()\n",
    "print(x)"
   ]
  },
  {
   "cell_type": "markdown",
   "metadata": {},
   "source": [
    "# EX2"
   ]
  },
  {
   "cell_type": "code",
   "execution_count": 3,
   "metadata": {},
   "outputs": [
    {
     "name": "stdout",
     "output_type": "stream",
     "text": [
      "[[1 2 3]\n",
      " [4 5 6]\n",
      " [7 8 9]]\n",
      "diagonal 15\n"
     ]
    }
   ],
   "source": [
    "import numpy as np\n",
    "sum=0\n",
    "A= np.array([[1,2,3],\n",
    "             [4,5,6],\n",
    "             [7,8,9]])\n",
    "print(A)\n",
    "for i in range (3):\n",
    "  for j in range (3):\n",
    "    if i == j :\n",
    "      sum+=A[i][j]\n",
    "print(\"diagonal\",sum)"
   ]
  },
  {
   "cell_type": "markdown",
   "metadata": {},
   "source": [
    "# EX3"
   ]
  },
  {
   "cell_type": "code",
   "execution_count": 4,
   "metadata": {},
   "outputs": [
    {
     "name": "stdout",
     "output_type": "stream",
     "text": [
      "[12, 15, 16]\n",
      "[6, 13, 14]\n"
     ]
    }
   ],
   "source": [
    "import numpy as np\n",
    "a=np.array([[1,2],[3,4],[5,6],[13,14]])\n",
    "arr = np.array([[7,8],[9,10],[11,12],[15,16]])\n",
    "def high(arr,a):\n",
    "    k=[]\n",
    "    for i in range(len(arr)):\n",
    "        for j in range(len(arr[i])):\n",
    "            if(arr[i][j] > a):\n",
    "                k.append(arr[i][j])\n",
    "    return k\n",
    "print(high(arr,11))\n",
    "print(high(a,5))"
   ]
  },
  {
   "cell_type": "markdown",
   "metadata": {},
   "source": [
    "# EX4"
   ]
  },
  {
   "cell_type": "code",
   "execution_count": 5,
   "metadata": {},
   "outputs": [
    {
     "name": "stdout",
     "output_type": "stream",
     "text": [
      "[array([[ 8, 10],\n",
      "       [12, 14],\n",
      "       [16, 18],\n",
      "       [28, 30]])]\n"
     ]
    }
   ],
   "source": [
    "import numpy as np\n",
    "A = np.array([[1,2],[3,4],[5,6],[13,14]])\n",
    "B = np.array([[7,8],[9,10],[11,12],[15,16]])\n",
    "c=[]\n",
    "def summ(A,B,c):\n",
    "  if A.shape == B.shape :\n",
    "    c.append(A+B)\n",
    "    return c\n",
    "l=summ(A,B,c)\n",
    "print(l)"
   ]
  },
  {
   "cell_type": "markdown",
   "metadata": {},
   "source": [
    "# EX5"
   ]
  },
  {
   "cell_type": "code",
   "execution_count": 15,
   "metadata": {},
   "outputs": [
    {
     "name": "stdout",
     "output_type": "stream",
     "text": [
      "[1.5, 3.5, 5.5, 13.5]\n"
     ]
    }
   ],
   "source": [
    "import numpy as np\n",
    "A = np.array([[1,2],[3,4],[5,6],[13,14]])\n",
    "arr = []\n",
    "for i in range(len(a)):\n",
    "    l = []\n",
    "    for j in range(len(a[i])):\n",
    "        l.append(a[i][j])\n",
    "    tot = 0\n",
    "    for k in range(len(l)):\n",
    "        tot+= l[k]\n",
    "    tot = tot/len(l)\n",
    "    arr.append(tot)\n",
    "print(arr)"
   ]
  },
  {
   "cell_type": "code",
   "execution_count": null,
   "metadata": {},
   "outputs": [],
   "source": []
  },
  {
   "cell_type": "code",
   "execution_count": null,
   "metadata": {},
   "outputs": [],
   "source": []
  }
 ],
 "metadata": {
  "kernelspec": {
   "display_name": "Python 3",
   "language": "python",
   "name": "python3"
  },
  "language_info": {
   "codemirror_mode": {
    "name": "ipython",
    "version": 3
   },
   "file_extension": ".py",
   "mimetype": "text/x-python",
   "name": "python",
   "nbconvert_exporter": "python",
   "pygments_lexer": "ipython3",
   "version": "3.8.5"
  }
 },
 "nbformat": 4,
 "nbformat_minor": 4
}
